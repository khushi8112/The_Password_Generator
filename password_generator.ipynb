{
 "cells": [
  {
   "cell_type": "code",
   "execution_count": 5,
   "id": "70d8b817-279a-47f2-8dc0-b153ee67b31b",
   "metadata": {},
   "outputs": [
    {
     "name": "stdin",
     "output_type": "stream",
     "text": [
      "Enter The Minimum Length:  8\n",
      "Do you want to have numbers? (y/n) y\n",
      "Do want to have special characters? (y/n) n\n"
     ]
    },
    {
     "name": "stdout",
     "output_type": "stream",
     "text": [
      "VJaNOIS5\n"
     ]
    }
   ],
   "source": [
    "import random\n",
    "import string\n",
    "\n",
    "def generatePassword(min_length ,numbers=True ,special_char=True):\n",
    "    letters = string.ascii_letters\n",
    "    digits = string.digits\n",
    "    special = string.punctuation\n",
    "\n",
    "    characters = letters\n",
    "    if numbers:\n",
    "        characters += digits\n",
    "    if special_char:\n",
    "        characters += special\n",
    "\n",
    "    pwd = ''\n",
    "    meets_criteria = False\n",
    "    has_numbers = False\n",
    "    has_special = False\n",
    "    \n",
    "    while not meets_criteria or len(pwd) < min_length :\n",
    "        new_char = random.choice(characters)\n",
    "        pwd += new_char\n",
    "        \n",
    "        if new_char in digits:\n",
    "            has_numbers = True\n",
    "        elif new_char in special:\n",
    "            has_special = True\n",
    "\n",
    "        meets_criteria = True\n",
    "        if numbers:\n",
    "            meets_criteria = has_numbers\n",
    "        if special_char:\n",
    "            meets_criteria = meets_criteria and special_char\n",
    "        \n",
    "\n",
    "    return pwd\n",
    "\n",
    "n = int(input(\"Enter The Minimum Length: \"))\n",
    "has_number = input(\"Do you want to have numbers? (y/n)\").lower() == 'y'\n",
    "has_special = input(\"Do want to have special characters? (y/n)\").lower() == 'y'\n",
    "pwd = generatePassword(n,has_number,has_special)\n",
    "print(pwd)"
   ]
  },
  {
   "cell_type": "code",
   "execution_count": null,
   "id": "82447cf4-cd2d-475c-9cbb-a0f651bc88ac",
   "metadata": {},
   "outputs": [],
   "source": []
  }
 ],
 "metadata": {
  "kernelspec": {
   "display_name": "Python 3 (ipykernel)",
   "language": "python",
   "name": "python3"
  },
  "language_info": {
   "codemirror_mode": {
    "name": "ipython",
    "version": 3
   },
   "file_extension": ".py",
   "mimetype": "text/x-python",
   "name": "python",
   "nbconvert_exporter": "python",
   "pygments_lexer": "ipython3",
   "version": "3.10.12"
  }
 },
 "nbformat": 4,
 "nbformat_minor": 5
}
